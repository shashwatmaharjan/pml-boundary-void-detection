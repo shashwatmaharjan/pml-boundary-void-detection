{
 "cells": [
  {
   "cell_type": "code",
   "execution_count": 12,
   "metadata": {},
   "outputs": [],
   "source": [
    "# Import necessary libraries\n",
    "import numpy as np\n",
    "import os\n",
    "\n",
    "from scipy.io import loadmat, savemat"
   ]
  },
  {
   "cell_type": "code",
   "execution_count": 13,
   "metadata": {},
   "outputs": [],
   "source": [
    "# Define fonts and fontsize for plotting\n",
    "plt.rcParams['font.family'] = 'serif'\n",
    "plt.rcParams['mathtext.fontset'] = 'dejavuserif'\n",
    "fontsize = 15"
   ]
  },
  {
   "cell_type": "code",
   "execution_count": 14,
   "metadata": {},
   "outputs": [],
   "source": [
    "# Define necessary functions\n",
    "# Function to get displacement and void data\n",
    "def get_data(file_directory, void_number):\n",
    "\n",
    "    # Load the displacement data\n",
    "    training_displacement_data = loadmat(os.path.join(file_directory, f'void_{void_number}_training_displacement_data.mat'))['displacement_data']\n",
    "    validation_displacement_data = loadmat(os.path.join(file_directory, f'void_{void_number}_validation_displacement_data.mat'))['displacement_data']\n",
    "    test_displacement_data = loadmat(os.path.join(file_directory, f'void_{void_number}_test_displacement_data.mat'))['displacement_data']\n",
    "\n",
    "    # Load the void data\n",
    "    training_void_data = loadmat(os.path.join(file_directory, f'void_{void_number}_training_void_data.mat'))['void_data']\n",
    "    validation_void_data = loadmat(os.path.join(file_directory, f'void_{void_number}_validation_void_data.mat'))['void_data']\n",
    "    test_void_data = loadmat(os.path.join(file_directory, f'void_{void_number}_test_void_data.mat'))['void_data']\n",
    "\n",
    "    return training_displacement_data, validation_displacement_data, test_displacement_data, training_void_data, validation_void_data, test_void_data"
   ]
  },
  {
   "cell_type": "code",
   "execution_count": 15,
   "metadata": {},
   "outputs": [],
   "source": [
    "# Function to save dataset\n",
    "def save_data(displacement_data, void_data, displacement_file_name, void_file_name, file_directory_to_save_data):\n",
    "\n",
    "    # Save the displacement data\n",
    "    savemat(os.path.join(file_directory_to_save_data, displacement_file_name), {'displacement_data': displacement_data})\n",
    "\n",
    "    # Save the void data\n",
    "    savemat(os.path.join(file_directory_to_save_data, void_file_name), {'void_data': void_data})"
   ]
  },
  {
   "cell_type": "code",
   "execution_count": 16,
   "metadata": {},
   "outputs": [],
   "source": [
    "# Function to normalize the displacement data\n",
    "def normalize_data(data, mean, range):\n",
    "\n",
    "    return (data - mean) / range"
   ]
  },
  {
   "cell_type": "code",
   "execution_count": 17,
   "metadata": {},
   "outputs": [],
   "source": [
    "# Define directories\n",
    "current_directory = os.getcwd()\n",
    "parent_directory = os.path.dirname(current_directory)\n",
    "grandparent_directory = os.path.dirname(parent_directory)\n",
    "\n",
    "# Divided data directory\n",
    "divided_data_directory = os.path.join(grandparent_directory, 'data', 'divided')\n",
    "\n",
    "# Normalized data directory\n",
    "normalized_data_directory = os.path.join(grandparent_directory, 'data', 'normalized')"
   ]
  },
  {
   "cell_type": "code",
   "execution_count": 18,
   "metadata": {},
   "outputs": [],
   "source": [
    "# Get the data for all three voids\n",
    "void_0_training_displacement_data, void_0_validation_displacement_data, void_0_training_void_data, void_0_validation_void_data, void_0_test_displacement_data, void_0_test_void_data = get_data(divided_data_directory, 0)\n",
    "void_1_training_displacement_data, void_1_validation_displacement_data, void_1_training_void_data, void_1_validation_void_data, void_1_test_displacement_data, void_1_test_void_data = get_data(divided_data_directory, 1)\n",
    "void_2_training_displacement_data, void_2_validation_displacement_data, void_2_training_void_data, void_2_validation_void_data, void_2_test_displacement_data, void_2_test_void_data = get_data(divided_data_directory, 2)"
   ]
  },
  {
   "cell_type": "code",
   "execution_count": 19,
   "metadata": {},
   "outputs": [],
   "source": [
    "void_0_training_displacement_data, void_0_validation_displacement_data, void_0_training_void_data, void_0_validation_void_data, void_0_test_displacement_data, void_0_test_void_data = get_data(divided_data_directory, 2)"
   ]
  },
  {
   "cell_type": "code",
   "execution_count": 20,
   "metadata": {},
   "outputs": [],
   "source": [
    "# Find the mean, maximum, and minimum displacement values from the training set of all three voids\n",
    "mean_displacement_value = np.mean([np.mean(void_0_training_displacement_data), np.mean(void_1_training_displacement_data), np.mean(void_2_training_displacement_data)])\n",
    "min_displacement_value = np.min([np.min(void_0_training_displacement_data), np.min(void_1_training_displacement_data), np.min(void_2_training_displacement_data)])\n",
    "max_displacement_value = np.max([np.max(void_0_training_displacement_data), np.max(void_1_training_displacement_data), np.max(void_2_training_displacement_data)])"
   ]
  },
  {
   "cell_type": "code",
   "execution_count": 21,
   "metadata": {},
   "outputs": [],
   "source": [
    "# Normalize the displacement data\n",
    "# Void 0\n",
    "void_0_training_displacement_data = normalize_data(void_0_training_displacement_data, mean_displacement_value, max_displacement_value - min_displacement_value)\n",
    "void_0_validation_displacement_data = normalize_data(void_0_validation_displacement_data, mean_displacement_value, max_displacement_value - min_displacement_value)\n",
    "void_0_test_displacement_data = normalize_data(void_0_test_displacement_data, mean_displacement_value, max_displacement_value - min_displacement_value)"
   ]
  },
  {
   "cell_type": "code",
   "execution_count": 22,
   "metadata": {},
   "outputs": [],
   "source": [
    "# Save the normalized data\n",
    "# Void 0\n",
    "save_data(void_0_training_displacement_data, void_0_training_void_data, 'void_0_training_displacement_data_normalized.mat', 'void_0_training_void_data.mat', normalized_data_directory)\n",
    "save_data(void_0_validation_displacement_data, void_0_validation_void_data, 'void_0_validation_displacement_data_normalized.mat', 'void_0_validation_void_data.mat', normalized_data_directory)\n",
    "save_data(void_0_test_displacement_data, void_0_test_void_data, 'void_0_test_displacement_data_normalized.mat', 'void_0_test_void_data.mat', normalized_data_directory)"
   ]
  },
  {
   "cell_type": "code",
   "execution_count": 23,
   "metadata": {},
   "outputs": [],
   "source": [
    "# Normalize the displacement data\n",
    "# Void 1\n",
    "void_1_training_displacement_data = normalize_data(void_1_training_displacement_data, mean_displacement_value, max_displacement_value - min_displacement_value)\n",
    "void_1_validation_displacement_data = normalize_data(void_1_validation_displacement_data, mean_displacement_value, max_displacement_value - min_displacement_value)\n",
    "void_1_test_displacement_data = normalize_data(void_1_test_displacement_data, mean_displacement_value, max_displacement_value - min_displacement_value)"
   ]
  },
  {
   "cell_type": "code",
   "execution_count": 24,
   "metadata": {},
   "outputs": [],
   "source": [
    "# Save the normalized data\n",
    "# Void 1\n",
    "save_data(void_1_training_displacement_data, void_1_training_void_data, 'void_1_training_displacement_data_normalized.mat', 'void_1_training_void_data.mat', normalized_data_directory)\n",
    "save_data(void_1_validation_displacement_data, void_1_validation_void_data, 'void_1_validation_displacement_data_normalized.mat', 'void_1_validation_void_data.mat', normalized_data_directory)\n",
    "save_data(void_1_test_displacement_data, void_1_test_void_data, 'void_1_test_displacement_data_normalized.mat', 'void_1_test_void_data.mat', normalized_data_directory)"
   ]
  },
  {
   "cell_type": "code",
   "execution_count": 25,
   "metadata": {},
   "outputs": [],
   "source": [
    "# Normalize the displacement data\n",
    "# Void 2\n",
    "void_2_training_displacement_data = normalize_data(void_2_training_displacement_data, mean_displacement_value, max_displacement_value - min_displacement_value)\n",
    "void_2_validation_displacement_data = normalize_data(void_2_validation_displacement_data, mean_displacement_value, max_displacement_value - min_displacement_value)\n",
    "void_2_test_displacement_data = normalize_data(void_2_test_displacement_data, mean_displacement_value, max_displacement_value - min_displacement_value)"
   ]
  },
  {
   "cell_type": "code",
   "execution_count": 26,
   "metadata": {},
   "outputs": [],
   "source": [
    "# Save the normalized data\n",
    "# Void 2\n",
    "save_data(void_2_training_displacement_data, void_2_training_void_data, 'void_2_training_displacement_data_normalized.mat', 'void_2_training_void_data.mat', normalized_data_directory)\n",
    "save_data(void_2_validation_displacement_data, void_2_validation_void_data, 'void_2_validation_displacement_data_normalized.mat', 'void_2_validation_void_data.mat', normalized_data_directory)\n",
    "save_data(void_2_test_displacement_data, void_2_test_void_data, 'void_2_test_displacement_data_normalized.mat', 'void_2_test_void_data.mat', normalized_data_directory)"
   ]
  }
 ],
 "metadata": {
  "kernelspec": {
   "display_name": "tensorflow_env",
   "language": "python",
   "name": "python3"
  },
  "language_info": {
   "codemirror_mode": {
    "name": "ipython",
    "version": 3
   },
   "file_extension": ".py",
   "mimetype": "text/x-python",
   "name": "python",
   "nbconvert_exporter": "python",
   "pygments_lexer": "ipython3",
   "version": "3.8.0"
  }
 },
 "nbformat": 4,
 "nbformat_minor": 2
}
