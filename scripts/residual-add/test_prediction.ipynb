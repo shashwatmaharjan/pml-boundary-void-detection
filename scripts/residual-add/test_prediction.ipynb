{
 "cells": [
  {
   "cell_type": "code",
   "execution_count": 25,
   "metadata": {},
   "outputs": [],
   "source": [
    "# Import necessary libraries\n",
    "import numpy as np\n",
    "import matplotlib.pyplot as plt\n",
    "import tensorflow as tf\n",
    "import os\n",
    "import random\n",
    "\n",
    "from scipy.io import loadmat\n",
    "from matplotlib.ticker import MaxNLocator"
   ]
  },
  {
   "cell_type": "code",
   "execution_count": 26,
   "metadata": {},
   "outputs": [],
   "source": [
    "# Define fonts and fontsize for plotting\n",
    "plt.rcParams['font.family'] = 'serif'\n",
    "plt.rcParams['mathtext.fontset'] = 'dejavuserif'\n",
    "fontsize = 15\n",
    "fontsize_ticks = 12"
   ]
  },
  {
   "cell_type": "code",
   "execution_count": 27,
   "metadata": {},
   "outputs": [],
   "source": [
    "# Define necessary functions\n",
    "# Function to get displacement and void data\n",
    "def get_data(file_directory, void_number):\n",
    "\n",
    "    # Load the displacement data\n",
    "    test_displacement_data = loadmat(os.path.join(file_directory, f'void_{void_number}_test_displacement_data_normalized.mat'))['displacement_data']\n",
    "   \n",
    "    # Load the void data\n",
    "    test_void_data = loadmat(os.path.join(file_directory, f'void_{void_number}_test_void_data.mat'))['void_data']\n",
    "    \n",
    "    return test_displacement_data, test_void_data"
   ]
  },
  {
   "cell_type": "code",
   "execution_count": 28,
   "metadata": {},
   "outputs": [],
   "source": [
    "# Function to calculate metrics\n",
    "def metrics_calculator(target, predicted):\n",
    "\n",
    "    # True positive\n",
    "    tp = 0\n",
    "\n",
    "    # True negative\n",
    "    tn = 0\n",
    "\n",
    "    # False positive\n",
    "    fp = 0\n",
    "\n",
    "    # False negative\n",
    "    fn = 0\n",
    "\n",
    "    # Lists to store accuracy, precision, and recall\n",
    "    accuracy = []\n",
    "    precision = []\n",
    "    recall = []\n",
    "\n",
    "    for n_sample in range(target.shape[0]):\n",
    "\n",
    "        for n_element in range(target.shape[1]):\n",
    "            \n",
    "            # If both the target and predicted are same\n",
    "            if target[n_sample, n_element] == predicted[n_sample, n_element]:\n",
    "\n",
    "                # If the target and predicted are both 1\n",
    "                if target[n_sample, n_element] == 1 and predicted[n_sample, n_element] == 1:\n",
    "\n",
    "                    tp = tp + 1\n",
    "\n",
    "                # If the target and predicted are both 0\n",
    "                elif target[n_sample, n_element] == 0 and predicted[n_sample, n_element] == 0:\n",
    "\n",
    "                    tn = tn + 1\n",
    "            \n",
    "            # If the target and predicted are different\n",
    "            else:\n",
    "\n",
    "                # If the target is 0 and predicted is 1\n",
    "                if target[n_sample, n_element] == 0 and predicted[n_sample, n_element] == 1:\n",
    "\n",
    "                    fp = fp + 1\n",
    "                \n",
    "                # If the target is 1 and predicted is 0\n",
    "                elif target[n_sample, n_element] == 1 and predicted[n_sample, n_element] == 0:\n",
    "                \n",
    "                    fn = fn + 1\n",
    "            \n",
    "        # Calculate accuracy, precision, and recall\n",
    "        accuracy.append((tp + tn) / (tp + tn + fp + fn))\n",
    "        precision.append(tp / (tp + fp))\n",
    "        recall.append(tp / (tp + fn))\n",
    "    \n",
    "    # Convert the lists to numpy arrays\n",
    "    accuracy = np.array(accuracy)\n",
    "    precision = np.array(precision)\n",
    "    recall = np.array(recall)\n",
    "\n",
    "    # Calculate the F1 score\n",
    "    f1_score = 2 * (precision * recall) / (precision + recall)\n",
    "\n",
    "    return accuracy, precision, recall, f1_score"
   ]
  },
  {
   "cell_type": "code",
   "execution_count": 29,
   "metadata": {},
   "outputs": [],
   "source": [
    "# Function to plot void 0 prediction\n",
    "def plot_void(target, predicted, file_directory, sample_num, f1_score, void, keyword):\n",
    "\n",
    "    # See how the actual void looks in target\n",
    "    actual_plot = plt.figure()\n",
    "    ax = plt.axes()\n",
    "    im1 = plt.imshow(target[sample_num, :, :], cmap='binary', origin='lower', vmin=0, vmax=1, extent=[0, 50, 0, 50])\n",
    "    \n",
    "    # Domain section lines\n",
    "    plt.axhline(y=10, color='k', linewidth = 0.5, linestyle='--', dashes=(10, 5))\n",
    "    plt.axhline(y=20, color='k', linewidth = 0.5)\n",
    "    plt.axhline(y=30, color='k', linewidth = 0.5)\n",
    "    plt.axhline(y=40, color='k', linewidth = 0.5)\n",
    "\n",
    "    plt.axvline(x=5, color='k', linewidth = 0.5, linestyle='--', dashes=(10, 5))\n",
    "    plt.axvline(x=45, color='k', linewidth = 0.5, linestyle='--', dashes=(10, 5))\n",
    "    \n",
    "    plt.xlabel('$x$ [m]', fontsize=fontsize)\n",
    "    plt.ylabel('$y$ [m]', fontsize=fontsize)\n",
    "\n",
    "    plt.title(f'Sample Number: {sample_num+1}', fontsize=fontsize_ticks)\n",
    "    ax.tick_params(axis='both', which='major', labelsize=fontsize_ticks)\n",
    "    cax = actual_plot.add_axes([ax.get_position().x1+0.01,ax.get_position().y0,0.02,ax.get_position().height])\n",
    "    cb = plt.colorbar(im1, cax=cax)\n",
    "    cb.ax.tick_params(labelsize=fontsize_ticks)\n",
    "    plt.savefig(os.path.join(file_directory, f'{keyword}_void_{void}_target.pdf'), bbox_inches='tight')\n",
    "\n",
    "    # See how the predicted void looks in prediction\n",
    "    predicted_plot = plt.figure()\n",
    "    ax = plt.axes()\n",
    "    im2 = plt.imshow(predicted[sample_num, :], cmap='binary', origin='lower', vmin=0, vmax=1, extent=[0, 50, 0, 50])\n",
    "    \n",
    "    # Domain section lines\n",
    "    plt.axhline(y=10, color='k', linewidth = 0.5, linestyle='--', dashes=(10, 5))\n",
    "    plt.axhline(y=20, color='k', linewidth = 0.5)\n",
    "    plt.axhline(y=30, color='k', linewidth = 0.5)\n",
    "    plt.axhline(y=40, color='k', linewidth = 0.5)\n",
    "\n",
    "    plt.axvline(x=5, color='k', linewidth = 0.5, linestyle='--', dashes=(10, 5))\n",
    "    plt.axvline(x=45, color='k', linewidth = 0.5, linestyle='--', dashes=(10, 5))\n",
    "\n",
    "    plt.xlabel('$x$ [m]', fontsize=fontsize)\n",
    "    plt.ylabel('$y$ [m]', fontsize=fontsize)\n",
    "\n",
    "    plt.title(f'Sample Number: {sample_num+1}; F1 score: {f1_score*100:.2f}%', fontsize=fontsize_ticks)    \n",
    "    ax.tick_params(axis='both', which='major', labelsize=fontsize_ticks)\n",
    "    cax = predicted_plot.add_axes([ax.get_position().x1+0.01,ax.get_position().y0,0.02,ax.get_position().height])\n",
    "    cb = plt.colorbar(im2, cax=cax)\n",
    "    cb.ax.tick_params(labelsize=fontsize_ticks)\n",
    "    plt.savefig(os.path.join(file_directory, f'{keyword}_void_{void}_predicted.pdf'), bbox_inches='tight')\n",
    "\n",
    "    return actual_plot, predicted_plot"
   ]
  },
  {
   "cell_type": "code",
   "execution_count": 30,
   "metadata": {},
   "outputs": [],
   "source": [
    "# Define directories\n",
    "current_directory = os.getcwd()\n",
    "\n",
    "# Define directory for the normalized data\n",
    "normalized_data_directory = os.path.join(current_directory, '..', '..', 'data', 'normalized')\n",
    "\n",
    "# Define directory for the trained results\n",
    "trained_results_directory = os.path.join(current_directory, '..', '..', 'residual-add', 'training_results')\n",
    "\n",
    "# Define directory for the prediction results\n",
    "prediction_results_directory = os.path.join(current_directory, '..', '..', 'residual-add', 'prediction_results', 'test')"
   ]
  },
  {
   "cell_type": "code",
   "execution_count": 31,
   "metadata": {},
   "outputs": [],
   "source": [
    "# Get the normalized data for all three voids\n",
    "void = 0\n",
    "void_test_displacement_data, void_target_void_data = get_data(normalized_data_directory, void)"
   ]
  },
  {
   "cell_type": "code",
   "execution_count": 32,
   "metadata": {},
   "outputs": [
    {
     "name": "stdout",
     "output_type": "stream",
     "text": [
      "WARNING:tensorflow:Error in loading the saved optimizer state. As a result, your model is starting with a freshly initialized optimizer.\n"
     ]
    }
   ],
   "source": [
    "# Load the trained model\n",
    "model = tf.keras.models.load_model(os.path.join(trained_results_directory, 'best_model.h5'))"
   ]
  },
  {
   "cell_type": "code",
   "execution_count": 33,
   "metadata": {},
   "outputs": [],
   "source": [
    "# Use the model to predict on the test data both probability and class\n",
    "threshold = 0.5\n",
    "void_predicted_void_data_probabilistic = model.predict(void_test_displacement_data)\n",
    "void_predicted_void_data_class = np.where(void_predicted_void_data_probabilistic > threshold, 1, 0)"
   ]
  },
  {
   "cell_type": "code",
   "execution_count": 34,
   "metadata": {},
   "outputs": [],
   "source": [
    "# Plot the void prediction\n",
    "if void != 0:\n",
    "\n",
    "    # Calculate the metrics\n",
    "    accuracy, precision, recall, f1_score = metrics_calculator(void_target_void_data, void_predicted_void_data_class)\n",
    "\n",
    "    # Check where the f1 score is minimum and maximum\n",
    "    # If multiple, then pick the first one\n",
    "    min_f1_score_location = np.argmin(f1_score)\n",
    "    max_f1_score_location = np.argmax(f1_score)"
   ]
  },
  {
   "cell_type": "code",
   "execution_count": 35,
   "metadata": {},
   "outputs": [],
   "source": [
    "# Reshape the target and predicted data to a 50x50 grid\n",
    "void_target_void_data = np.reshape(void_target_void_data, (void_target_void_data.shape[0], 50, 50))\n",
    "void_predicted_void_data_probabilistic = np.reshape(void_predicted_void_data_probabilistic, (void_predicted_void_data_probabilistic.shape[0], 50, 50))"
   ]
  },
  {
   "cell_type": "code",
   "execution_count": 36,
   "metadata": {},
   "outputs": [
    {
     "data": {
      "image/png": "[encoded data removed]",
      "text/plain": [
       "<Figure size 640x480 with 2 Axes>"
      ]
     },
     "metadata": {},
     "output_type": "display_data"
    },
    {
     "data": {
      "image/png": "[encoded data removed]",
      "text/plain": [
       "<Figure size 640x480 with 2 Axes>"
      ]
     },
     "metadata": {},
     "output_type": "display_data"
    }
   ],
   "source": [
    "# Plot the void prediction\n",
    "if void != 0:\n",
    "\n",
    "    # Minimum f1 score plot\n",
    "    actual_plot, predicted_plot = plot_void(void_target_void_data, void_predicted_void_data_probabilistic, prediction_results_directory, min_f1_score_location, f1_score[min_f1_score_location], void, 'worst', )\n",
    "\n",
    "    # Maximum f1 score plot\n",
    "    actual_plot, predicted_plot = plot_void(void_target_void_data, void_predicted_void_data_probabilistic, prediction_results_directory, max_f1_score_location, f1_score[max_f1_score_location], void, 'best')\n",
    "\n",
    "else:\n",
    "\n",
    "    # Plot the void predictioncnn\n",
    "    actual_plot, predicted_plot = plot_void(void_target_void_data, void_predicted_void_data_probabilistic, prediction_results_directory, random.randint(0, void_target_void_data.shape[0]), 1, void, '')"
   ]
  }
 ],
 "metadata": {
  "kernelspec": {
   "display_name": "tensorflow_env",
   "language": "python",
   "name": "python3"
  },
  "language_info": {
   "codemirror_mode": {
    "name": "ipython",
    "version": 3
   },
   "file_extension": ".py",
   "mimetype": "text/x-python",
   "name": "python",
   "nbconvert_exporter": "python",
   "pygments_lexer": "ipython3",
   "version": "3.8.16"
  }
 },
 "nbformat": 4,
 "nbformat_minor": 2
}
