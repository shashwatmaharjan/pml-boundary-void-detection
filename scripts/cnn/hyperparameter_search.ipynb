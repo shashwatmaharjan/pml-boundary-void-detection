{
 "cells": [
  {
   "cell_type": "code",
   "execution_count": null,
   "metadata": {},
   "outputs": [],
   "source": [
    "# Import necessary libraries\n",
    "import numpy as np\n",
    "import matplotlib.pyplot as plt\n",
    "import tensorflow as tf\n",
    "import keras_tuner as kt\n",
    "import os\n",
    "\n",
    "from scipy.io import loadmat\n",
    "from keras_tuner import HyperParameter as hp"
   ]
  },
  {
   "cell_type": "code",
   "execution_count": null,
   "metadata": {},
   "outputs": [],
   "source": [
    "# Define fonts and fontsize for plotting\n",
    "plt.rcParams['font.family'] = 'serif'\n",
    "plt.rcParams['mathtext.fontset'] = 'dejavuserif'\n",
    "fontsize = 15"
   ]
  },
  {
   "cell_type": "code",
   "execution_count": null,
   "metadata": {},
   "outputs": [],
   "source": [
    "# Define necessary functions\n",
    "# Function to get displacement and void data\n",
    "def get_data(file_directory, void_number):\n",
    "\n",
    "    # Load the displacement data\n",
    "    training_displacement_data = loadmat(os.path.join(file_directory, f'void_{void_number}_training_displacement_data_normalized.mat'))['displacement_data']\n",
    "    validation_displacement_data = loadmat(os.path.join(file_directory, f'void_{void_number}_validation_displacement_data_normalized.mat'))['displacement_data']\n",
    "\n",
    "    # Load the void data\n",
    "    training_void_data = loadmat(os.path.join(file_directory, f'void_{void_number}_training_void_data.mat'))['void_data']\n",
    "    validation_void_data = loadmat(os.path.join(file_directory, f'void_{void_number}_validation_void_data.mat'))['void_data']\n",
    "\n",
    "    return training_displacement_data, validation_displacement_data, training_void_data, validation_void_data"
   ]
  },
  {
   "cell_type": "code",
   "execution_count": null,
   "metadata": {},
   "outputs": [],
   "source": [
    "# Function to return searched optimizers\n",
    "def return_optimizer(optimizer_search, learning_rate_search):\n",
    "\n",
    "    # If else block to return the optimizer and learning rate\n",
    "    if optimizer_search == 'adam':\n",
    "\n",
    "        optimizer = tf.keras.optimizers.Adam(learning_rate=learning_rate_search)\n",
    "    \n",
    "    elif optimizer_search == 'nadam':\n",
    "\n",
    "        optimizer = tf.keras.optimizers.Nadam(learning_rate=learning_rate_search)\n",
    "    \n",
    "    elif optimizer_search == 'rmsprop':\n",
    "\n",
    "        optimizer = tf.keras.optimizers.RMSprop(learning_rate=learning_rate_search)\n",
    "    \n",
    "    elif optimizer_search == 'adadelta':\n",
    "\n",
    "        optimizer = tf.keras.optimizers.Adadelta(learning_rate=learning_rate_search)\n",
    "    \n",
    "    elif optimizer_search == 'adagrad':\n",
    "\n",
    "        optimizer = tf.keras.optimizers.Adagrad(learning_rate=learning_rate_search)\n",
    "\n",
    "    elif optimizer_search == 'adamax':\n",
    "\n",
    "        optimizer = tf.keras.optimizers.Adamax(learning_rate=learning_rate_search)\n",
    "    \n",
    "    return optimizer"
   ]
  },
  {
   "cell_type": "code",
   "execution_count": null,
   "metadata": {},
   "outputs": [],
   "source": [
    "# Function to build model for hyperparameter search\n",
    "def build_model(hp):\n",
    "\n",
    "    # Model Architecture Stage\n",
    "    # Activation Functions\n",
    "    activation_function_search = hp.Choice('activation_function', values=['relu', 'LeakyReLU'])\n",
    "\n",
    "    # Number of layers\n",
    "    number_of_layers_search = hp.Int('number_of_layers', min_value=1, max_value=3, step=1)\n",
    "\n",
    "    # Kernel Initializer\n",
    "    kernel_initializer_search = hp.Choice('kernel_initializer', values=['glorot_normal', 'he_normal', 'he_uniform', 'glorot_uniform'])\n",
    "    \n",
    "    # Kernel Sizes\n",
    "    kernel_size_search = hp.Int('kernel_size', min_value=10, max_value=100, step=10)\n",
    "\n",
    "    # Learning Rate\n",
    "    learning_rate_search = hp.Choice('learning_rate', values=[1e-2, 1e-3, 1e-4, 1e-5])\n",
    "\n",
    "    # Optimizer\n",
    "    optimizer_search = hp.Choice('optimizer', values=['adam', 'nadam', 'rmsprop'])\n",
    "\n",
    "    # Define a sequential model\n",
    "    model = tf.keras.models.Sequential()\n",
    "\n",
    "    # Add the input layer\n",
    "    model.add(tf.keras.layers.Input(shape=input_shape))\n",
    "\n",
    "    # Add the convolutional hidden layers\n",
    "    for i in range(number_of_layers_search):\n",
    "        \n",
    "        model.add(tf.keras.layers.Conv1D(filters=hp.Int(f'conv_{i+1}_filters', min_value=10, max_value=200, step=10),\n",
    "                                         kernel_size=kernel_size_search, \n",
    "                                         activation=activation_function_search, \n",
    "                                         kernel_initializer=kernel_initializer_search,\n",
    "                                         padding='same'))\n",
    "\n",
    "        # Add Batch Normalization layer\n",
    "        model.add(tf.keras.layers.BatchNormalization())\n",
    "\n",
    "    # Add a flatten layer\n",
    "    model.add(tf.keras.layers.Flatten())\n",
    "        \n",
    "    # Add the output layer\n",
    "    model.add(tf.keras.layers.Dense(units=output_shape, activation='sigmoid'))\n",
    "\n",
    "    # Compile the model\n",
    "    model.compile(optimizer=return_optimizer(optimizer_search, learning_rate_search),\n",
    "                  loss = tf.keras.losses.BinaryCrossentropy(name='binary_crossentropy'), \n",
    "                  metrics = tf.keras.metrics.Precision(name='precision'))\n",
    "    \n",
    "    return model"
   ]
  },
  {
   "cell_type": "code",
   "execution_count": null,
   "metadata": {},
   "outputs": [],
   "source": [
    "# Define directories\n",
    "current_directory = os.getcwd()\n",
    "parent_directory = os.path.dirname(current_directory)\n",
    "grandparent_directory = os.path.dirname(parent_directory)\n",
    "\n",
    "# Normalized data directory\n",
    "normalized_data_directory = os.path.join(grandparent_directory, 'data', 'normalized')\n",
    "\n",
    "# Hyperparameter search directory\n",
    "hyperparameter_search_directory = os.path.join(grandparent_directory, 'cnn')\n",
    "hyperparameter_search_folder = 'hyperparameter_search'\n",
    "\n",
    "# # If only this folder exists, then delete it\n",
    "# if os.path.exists(hyperparameter_search_directory):\n",
    "\n",
    "#     os.chdir(hyperparameter_search_directory)\n",
    "\n",
    "#     # If the folder exists, delete it\n",
    "#     if os.path.exists(hyperparameter_search_folder):\n",
    "\n",
    "#         os.system(f'rm -r {hyperparameter_search_folder}')\n",
    "        \n",
    "# Training results directory\n",
    "training_results_directory = os.path.join(grandparent_directory, 'cnn', 'training_results')"
   ]
  },
  {
   "cell_type": "code",
   "execution_count": null,
   "metadata": {},
   "outputs": [],
   "source": [
    "# Get the normalized data for all three voids\n",
    "void_0_training_displacement_data, void_0_validation_displacement_data, void_0_training_void_data, void_0_validation_void_data = get_data(normalized_data_directory, 0)\n",
    "void_1_training_displacement_data, void_1_validation_displacement_data, void_1_training_void_data, void_1_validation_void_data = get_data(normalized_data_directory, 1)\n",
    "void_2_training_displacement_data, void_2_validation_displacement_data, void_2_training_void_data, void_2_validation_void_data = get_data(normalized_data_directory, 2)"
   ]
  },
  {
   "cell_type": "code",
   "execution_count": null,
   "metadata": {},
   "outputs": [],
   "source": [
    "# Vertically stack the training, validation and test data\n",
    "# Displacement\n",
    "training_displacement_data = np.vstack((void_0_training_displacement_data, void_1_training_displacement_data, void_2_training_displacement_data))\n",
    "validation_displacement_data = np.vstack((void_0_validation_displacement_data, void_1_validation_displacement_data, void_2_validation_displacement_data))\n",
    "\n",
    "# Void\n",
    "training_void_data = np.vstack((void_0_training_void_data, void_1_training_void_data, void_2_training_void_data))\n",
    "validation_void_data = np.vstack((void_0_validation_void_data, void_1_validation_void_data, void_2_validation_void_data))"
   ]
  },
  {
   "cell_type": "code",
   "execution_count": null,
   "metadata": {},
   "outputs": [],
   "source": [
    "# Randomize the dataset using the same seed\n",
    "np.random.seed(42)\n",
    "\n",
    "# Randomize the training data\n",
    "random_indices = np.random.permutation(training_displacement_data.shape[0])\n",
    "training_displacement_data = training_displacement_data[random_indices]\n",
    "training_void_data = training_void_data[random_indices]\n",
    "\n",
    "# Randomize the validation data\n",
    "random_indices = np.random.permutation(validation_displacement_data.shape[0])\n",
    "validation_displacement_data = validation_displacement_data[random_indices]\n",
    "validation_void_data = validation_void_data[random_indices]"
   ]
  },
  {
   "cell_type": "code",
   "execution_count": null,
   "metadata": {},
   "outputs": [],
   "source": [
    "# Define variables that remain constant during the training\n",
    "input_shape = training_displacement_data.shape[1:]\n",
    "output_shape = training_void_data.shape[1]"
   ]
  },
  {
   "cell_type": "code",
   "execution_count": null,
   "metadata": {},
   "outputs": [],
   "source": [
    "# Use the hyperband tuner to search for the best hyperparameters\n",
    "hyperband_tuner = kt.Hyperband(build_model,\n",
    "                     objective=kt.Objective('val_loss', direction = 'min'),\n",
    "                     max_epochs=1000,\n",
    "                     directory=hyperparameter_search_directory,\n",
    "                     project_name=hyperparameter_search_folder)"
   ]
  },
  {
   "cell_type": "code",
   "execution_count": null,
   "metadata": {},
   "outputs": [],
   "source": [
    "# Define callbacks\n",
    "# Early stopping callback\n",
    "early_stopping = tf.keras.callbacks.EarlyStopping(monitor='val_loss', patience=5, restore_best_weights=True)"
   ]
  },
  {
   "cell_type": "code",
   "execution_count": null,
   "metadata": {},
   "outputs": [],
   "source": [
    "# Display search space summary\n",
    "hyperband_tuner.search_space_summary()"
   ]
  },
  {
   "cell_type": "code",
   "execution_count": null,
   "metadata": {},
   "outputs": [],
   "source": [
    "# Search for the best hyperparameters\n",
    "hyperband_tuner.search(x=training_displacement_data,\n",
    "                       y=training_void_data,\n",
    "                       epochs=100,\n",
    "                       validation_data=(validation_displacement_data, validation_void_data),\n",
    "                       callbacks=[early_stopping])"
   ]
  },
  {
   "cell_type": "code",
   "execution_count": null,
   "metadata": {},
   "outputs": [],
   "source": [
    "# Get the best trained model\n",
    "best_model = hyperband_tuner.get_best_models(num_models=1)[0]\n",
    "\n",
    "# Save the best model\n",
    "best_model.save(os.path.join(training_results_directory, 'best_model.h5'))\n",
    "\n",
    "# Print message to the user\n",
    "print('Hyperparameter search completed successfully.')"
   ]
  }
 ],
 "metadata": {
  "kernelspec": {
   "display_name": "tensorflow_env",
   "language": "python",
   "name": "python3"
  },
  "language_info": {
   "codemirror_mode": {
    "name": "ipython",
    "version": 3
   },
   "file_extension": ".py",
   "mimetype": "text/x-python",
   "name": "python",
   "nbconvert_exporter": "python",
   "pygments_lexer": "ipython3",
   "version": "3.8.16"
  }
 },
 "nbformat": 4,
 "nbformat_minor": 2
}
